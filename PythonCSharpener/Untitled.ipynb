{
 "cells": [
  {
   "cell_type": "code",
   "execution_count": 2,
   "metadata": {},
   "outputs": [],
   "source": [
    "from collections import OrderedDict\n",
    "import subprocess\n",
    "import sys\n",
    "import os\n",
    "from shutil import copyfile\n",
    "from openpyxl import load_workbook"
   ]
  },
  {
   "cell_type": "code",
   "execution_count": 3,
   "metadata": {},
   "outputs": [],
   "source": [
    "for ws in load_workbook('CoPick.Logging.xlsx'):\n",
    "    res_dict = OrderedDict({c[0]: c[1:] for c in ws.iter_cols(values_only=True) if c[0] is not None})"
   ]
  },
  {
   "cell_type": "code",
   "execution_count": 4,
   "metadata": {},
   "outputs": [
    {
     "data": {
      "text/plain": [
       "OrderedDict([('name',\n",
       "              ('WriteLogToFileError',\n",
       "               'ProcessNameInvalid',\n",
       "               'ProcessNameNotSet',\n",
       "               'CantCreateCaptureDir',\n",
       "               'WriteCsvFailed',\n",
       "               'ScreenShotCaptureFailure',\n",
       "               'NoWindowToBeCaptured',\n",
       "               'LogPathInvalid')),\n",
       "             ('en',\n",
       "              ('Failed with writing a log to the file. Check folder path and available space.',\n",
       "               'Invalid Process Name.',\n",
       "               'Process Name Not Set.',\n",
       "               'Cannot Create Captured Image Directory.',\n",
       "               'Failed with writing values to the csv file.',\n",
       "               'Failed Capturing Screenshot.',\n",
       "               'No Window is capturable.',\n",
       "               'Invalid log path! Log files could not be written.')),\n",
       "             ('ko-KR',\n",
       "              ('로그 파일 쓰기에 실패. 폴더 경로와 남은 용량을 확인해주세요.',\n",
       "               '프로세스 이름이 유효하지 않습니다.',\n",
       "               '프로세스 이름이 설정되지 않았습니다.',\n",
       "               '캡쳐 이미지 경로 생성에 실패하였습니다.',\n",
       "               'CSV 파일 쓰기에 실패하였습니다.',\n",
       "               '스크린샷 캡쳐에 실패하였습니다.',\n",
       "               '캡쳐 가능 영역이 없습니다.',\n",
       "               '로그 경로가 유효하지 않습니다.'))])"
      ]
     },
     "execution_count": 4,
     "metadata": {},
     "output_type": "execute_result"
    }
   ],
   "source": [
    "res_dict"
   ]
  },
  {
   "cell_type": "code",
   "execution_count": 5,
   "metadata": {},
   "outputs": [],
   "source": [
    "keys = list(res_dict.keys())"
   ]
  },
  {
   "cell_type": "code",
   "execution_count": 6,
   "metadata": {},
   "outputs": [
    {
     "data": {
      "text/plain": [
       "['name', 'en', 'ko-KR']"
      ]
     },
     "execution_count": 6,
     "metadata": {},
     "output_type": "execute_result"
    }
   ],
   "source": [
    "keys"
   ]
  },
  {
   "cell_type": "code",
   "execution_count": 7,
   "metadata": {},
   "outputs": [
    {
     "name": "stdout",
     "output_type": "stream",
     "text": [
      "en\n",
      "\n",
      "--\n",
      "\n",
      "ko-KR\n",
      "\n",
      "--\n",
      "\n"
     ]
    }
   ],
   "source": [
    "for k in keys[1:]:\n",
    "    print(k)\n",
    "    print('\\n--\\n')"
   ]
  },
  {
   "cell_type": "code",
   "execution_count": 12,
   "metadata": {},
   "outputs": [
    {
     "name": "stdout",
     "output_type": "stream",
     "text": [
      "['WriteLogToFileError = Failed with writing a log to the file. Check folder path and available space.', 'ProcessNameInvalid = Invalid Process Name.', 'ProcessNameNotSet = Process Name Not Set.', 'CantCreateCaptureDir = Cannot Create Captured Image Directory.', 'WriteCsvFailed = Failed with writing values to the csv file.', 'ScreenShotCaptureFailure = Failed Capturing Screenshot.', 'NoWindowToBeCaptured = No Window is capturable.', 'LogPathInvalid = Invalid log path! Log files could not be written.']\n",
      "['WriteLogToFileError = 로그 파일 쓰기에 실패. 폴더 경로와 남은 용량을 확인해주세요.', 'ProcessNameInvalid = 프로세스 이름이 유효하지 않습니다.', 'ProcessNameNotSet = 프로세스 이름이 설정되지 않았습니다.', 'CantCreateCaptureDir = 캡쳐 이미지 경로 생성에 실패하였습니다.', 'WriteCsvFailed = CSV 파일 쓰기에 실패하였습니다.', 'ScreenShotCaptureFailure = 스크린샷 캡쳐에 실패하였습니다.', 'NoWindowToBeCaptured = 캡쳐 가능 영역이 없습니다.', 'LogPathInvalid = 로그 경로가 유효하지 않습니다.']\n"
     ]
    }
   ],
   "source": [
    "for k in keys[1:]:\n",
    "    print([f'{n} = {v}' for n, v in zip(res_dict['name'], res_dict[k]) if n is not None])"
   ]
  },
  {
   "cell_type": "code",
   "execution_count": null,
   "metadata": {},
   "outputs": [],
   "source": []
  }
 ],
 "metadata": {
  "kernelspec": {
   "display_name": "Python 3",
   "language": "python",
   "name": "python3"
  },
  "language_info": {
   "codemirror_mode": {
    "name": "ipython",
    "version": 3
   },
   "file_extension": ".py",
   "mimetype": "text/x-python",
   "name": "python",
   "nbconvert_exporter": "python",
   "pygments_lexer": "ipython3",
   "version": "3.7.9"
  }
 },
 "nbformat": 4,
 "nbformat_minor": 4
}
